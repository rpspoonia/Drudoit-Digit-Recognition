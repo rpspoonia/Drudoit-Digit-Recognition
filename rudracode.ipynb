{
 "cells": [
  {
   "cell_type": "code",
   "execution_count": 1,
   "metadata": {},
   "outputs": [
    {
     "data": {
      "text/plain": [
       "[PhysicalDevice(name='/physical_device:GPU:0', device_type='GPU')]"
      ]
     },
     "execution_count": 1,
     "metadata": {},
     "output_type": "execute_result"
    }
   ],
   "source": [
    "import tensorflow as tf\n",
    "tf.config.experimental.set_memory_growth(tf.config.experimental.list_physical_devices('GPU')[0],False)\n",
    "tf.config.list_physical_devices(\"GPU\")"
   ]
  },
  {
   "cell_type": "code",
   "execution_count": 2,
   "metadata": {},
   "outputs": [],
   "source": [
    "import numpy as np\n",
    "import pandas as pd\n",
    "import cv2\n",
    "from PIL import Image\n",
    "from matplotlib import pyplot as plt\n",
    "import pyshearlab\n",
    "import os\n",
    "from sklearn.metrics import recall_score, precision_score, f1_score, confusion_matrix\n",
    "import seaborn as sn\n",
    "from sklearn.model_selection import KFold\n",
    "from sklearn.model_selection import train_test_split"
   ]
  },
  {
   "cell_type": "code",
   "execution_count": 3,
   "metadata": {},
   "outputs": [
    {
     "data": {
      "text/html": [
       "<div>\n",
       "<style scoped>\n",
       "    .dataframe tbody tr th:only-of-type {\n",
       "        vertical-align: middle;\n",
       "    }\n",
       "\n",
       "    .dataframe tbody tr th {\n",
       "        vertical-align: top;\n",
       "    }\n",
       "\n",
       "    .dataframe thead th {\n",
       "        text-align: right;\n",
       "    }\n",
       "</style>\n",
       "<table border=\"1\" class=\"dataframe\">\n",
       "  <thead>\n",
       "    <tr style=\"text-align: right;\">\n",
       "      <th></th>\n",
       "      <th>label</th>\n",
       "      <th>1x1</th>\n",
       "      <th>1x2</th>\n",
       "      <th>1x3</th>\n",
       "      <th>1x4</th>\n",
       "      <th>1x5</th>\n",
       "      <th>1x6</th>\n",
       "      <th>1x7</th>\n",
       "      <th>1x8</th>\n",
       "      <th>1x9</th>\n",
       "      <th>...</th>\n",
       "      <th>28x19</th>\n",
       "      <th>28x20</th>\n",
       "      <th>28x21</th>\n",
       "      <th>28x22</th>\n",
       "      <th>28x23</th>\n",
       "      <th>28x24</th>\n",
       "      <th>28x25</th>\n",
       "      <th>28x26</th>\n",
       "      <th>28x27</th>\n",
       "      <th>28x28</th>\n",
       "    </tr>\n",
       "  </thead>\n",
       "  <tbody>\n",
       "    <tr>\n",
       "      <th>0</th>\n",
       "      <td>5</td>\n",
       "      <td>0</td>\n",
       "      <td>0</td>\n",
       "      <td>0</td>\n",
       "      <td>0</td>\n",
       "      <td>0</td>\n",
       "      <td>0</td>\n",
       "      <td>0</td>\n",
       "      <td>0</td>\n",
       "      <td>0</td>\n",
       "      <td>...</td>\n",
       "      <td>0</td>\n",
       "      <td>0</td>\n",
       "      <td>0</td>\n",
       "      <td>0</td>\n",
       "      <td>0</td>\n",
       "      <td>0</td>\n",
       "      <td>0</td>\n",
       "      <td>0</td>\n",
       "      <td>0</td>\n",
       "      <td>0</td>\n",
       "    </tr>\n",
       "    <tr>\n",
       "      <th>1</th>\n",
       "      <td>0</td>\n",
       "      <td>0</td>\n",
       "      <td>0</td>\n",
       "      <td>0</td>\n",
       "      <td>0</td>\n",
       "      <td>0</td>\n",
       "      <td>0</td>\n",
       "      <td>0</td>\n",
       "      <td>0</td>\n",
       "      <td>0</td>\n",
       "      <td>...</td>\n",
       "      <td>0</td>\n",
       "      <td>0</td>\n",
       "      <td>0</td>\n",
       "      <td>0</td>\n",
       "      <td>0</td>\n",
       "      <td>0</td>\n",
       "      <td>0</td>\n",
       "      <td>0</td>\n",
       "      <td>0</td>\n",
       "      <td>0</td>\n",
       "    </tr>\n",
       "    <tr>\n",
       "      <th>2</th>\n",
       "      <td>4</td>\n",
       "      <td>0</td>\n",
       "      <td>0</td>\n",
       "      <td>0</td>\n",
       "      <td>0</td>\n",
       "      <td>0</td>\n",
       "      <td>0</td>\n",
       "      <td>0</td>\n",
       "      <td>0</td>\n",
       "      <td>0</td>\n",
       "      <td>...</td>\n",
       "      <td>0</td>\n",
       "      <td>0</td>\n",
       "      <td>0</td>\n",
       "      <td>0</td>\n",
       "      <td>0</td>\n",
       "      <td>0</td>\n",
       "      <td>0</td>\n",
       "      <td>0</td>\n",
       "      <td>0</td>\n",
       "      <td>0</td>\n",
       "    </tr>\n",
       "    <tr>\n",
       "      <th>3</th>\n",
       "      <td>1</td>\n",
       "      <td>0</td>\n",
       "      <td>0</td>\n",
       "      <td>0</td>\n",
       "      <td>0</td>\n",
       "      <td>0</td>\n",
       "      <td>0</td>\n",
       "      <td>0</td>\n",
       "      <td>0</td>\n",
       "      <td>0</td>\n",
       "      <td>...</td>\n",
       "      <td>0</td>\n",
       "      <td>0</td>\n",
       "      <td>0</td>\n",
       "      <td>0</td>\n",
       "      <td>0</td>\n",
       "      <td>0</td>\n",
       "      <td>0</td>\n",
       "      <td>0</td>\n",
       "      <td>0</td>\n",
       "      <td>0</td>\n",
       "    </tr>\n",
       "    <tr>\n",
       "      <th>4</th>\n",
       "      <td>9</td>\n",
       "      <td>0</td>\n",
       "      <td>0</td>\n",
       "      <td>0</td>\n",
       "      <td>0</td>\n",
       "      <td>0</td>\n",
       "      <td>0</td>\n",
       "      <td>0</td>\n",
       "      <td>0</td>\n",
       "      <td>0</td>\n",
       "      <td>...</td>\n",
       "      <td>0</td>\n",
       "      <td>0</td>\n",
       "      <td>0</td>\n",
       "      <td>0</td>\n",
       "      <td>0</td>\n",
       "      <td>0</td>\n",
       "      <td>0</td>\n",
       "      <td>0</td>\n",
       "      <td>0</td>\n",
       "      <td>0</td>\n",
       "    </tr>\n",
       "  </tbody>\n",
       "</table>\n",
       "<p>5 rows × 785 columns</p>\n",
       "</div>"
      ],
      "text/plain": [
       "   label  1x1  1x2  1x3  1x4  1x5  1x6  1x7  1x8  1x9  ...  28x19  28x20  \\\n",
       "0      5    0    0    0    0    0    0    0    0    0  ...      0      0   \n",
       "1      0    0    0    0    0    0    0    0    0    0  ...      0      0   \n",
       "2      4    0    0    0    0    0    0    0    0    0  ...      0      0   \n",
       "3      1    0    0    0    0    0    0    0    0    0  ...      0      0   \n",
       "4      9    0    0    0    0    0    0    0    0    0  ...      0      0   \n",
       "\n",
       "   28x21  28x22  28x23  28x24  28x25  28x26  28x27  28x28  \n",
       "0      0      0      0      0      0      0      0      0  \n",
       "1      0      0      0      0      0      0      0      0  \n",
       "2      0      0      0      0      0      0      0      0  \n",
       "3      0      0      0      0      0      0      0      0  \n",
       "4      0      0      0      0      0      0      0      0  \n",
       "\n",
       "[5 rows x 785 columns]"
      ]
     },
     "execution_count": 3,
     "metadata": {},
     "output_type": "execute_result"
    }
   ],
   "source": [
    "train_df = pd.read_csv(\"D:/notebooks/MNIST Dataset/mnist_train.csv\")\n",
    "train_df.head()"
   ]
  },
  {
   "cell_type": "code",
   "execution_count": 4,
   "metadata": {},
   "outputs": [
    {
     "data": {
      "text/html": [
       "<div>\n",
       "<style scoped>\n",
       "    .dataframe tbody tr th:only-of-type {\n",
       "        vertical-align: middle;\n",
       "    }\n",
       "\n",
       "    .dataframe tbody tr th {\n",
       "        vertical-align: top;\n",
       "    }\n",
       "\n",
       "    .dataframe thead th {\n",
       "        text-align: right;\n",
       "    }\n",
       "</style>\n",
       "<table border=\"1\" class=\"dataframe\">\n",
       "  <thead>\n",
       "    <tr style=\"text-align: right;\">\n",
       "      <th></th>\n",
       "      <th>label</th>\n",
       "      <th>1x1</th>\n",
       "      <th>1x2</th>\n",
       "      <th>1x3</th>\n",
       "      <th>1x4</th>\n",
       "      <th>1x5</th>\n",
       "      <th>1x6</th>\n",
       "      <th>1x7</th>\n",
       "      <th>1x8</th>\n",
       "      <th>1x9</th>\n",
       "      <th>...</th>\n",
       "      <th>28x19</th>\n",
       "      <th>28x20</th>\n",
       "      <th>28x21</th>\n",
       "      <th>28x22</th>\n",
       "      <th>28x23</th>\n",
       "      <th>28x24</th>\n",
       "      <th>28x25</th>\n",
       "      <th>28x26</th>\n",
       "      <th>28x27</th>\n",
       "      <th>28x28</th>\n",
       "    </tr>\n",
       "  </thead>\n",
       "  <tbody>\n",
       "    <tr>\n",
       "      <th>0</th>\n",
       "      <td>7</td>\n",
       "      <td>0</td>\n",
       "      <td>0</td>\n",
       "      <td>0</td>\n",
       "      <td>0</td>\n",
       "      <td>0</td>\n",
       "      <td>0</td>\n",
       "      <td>0</td>\n",
       "      <td>0</td>\n",
       "      <td>0</td>\n",
       "      <td>...</td>\n",
       "      <td>0</td>\n",
       "      <td>0</td>\n",
       "      <td>0</td>\n",
       "      <td>0</td>\n",
       "      <td>0</td>\n",
       "      <td>0</td>\n",
       "      <td>0</td>\n",
       "      <td>0</td>\n",
       "      <td>0</td>\n",
       "      <td>0</td>\n",
       "    </tr>\n",
       "    <tr>\n",
       "      <th>1</th>\n",
       "      <td>2</td>\n",
       "      <td>0</td>\n",
       "      <td>0</td>\n",
       "      <td>0</td>\n",
       "      <td>0</td>\n",
       "      <td>0</td>\n",
       "      <td>0</td>\n",
       "      <td>0</td>\n",
       "      <td>0</td>\n",
       "      <td>0</td>\n",
       "      <td>...</td>\n",
       "      <td>0</td>\n",
       "      <td>0</td>\n",
       "      <td>0</td>\n",
       "      <td>0</td>\n",
       "      <td>0</td>\n",
       "      <td>0</td>\n",
       "      <td>0</td>\n",
       "      <td>0</td>\n",
       "      <td>0</td>\n",
       "      <td>0</td>\n",
       "    </tr>\n",
       "    <tr>\n",
       "      <th>2</th>\n",
       "      <td>1</td>\n",
       "      <td>0</td>\n",
       "      <td>0</td>\n",
       "      <td>0</td>\n",
       "      <td>0</td>\n",
       "      <td>0</td>\n",
       "      <td>0</td>\n",
       "      <td>0</td>\n",
       "      <td>0</td>\n",
       "      <td>0</td>\n",
       "      <td>...</td>\n",
       "      <td>0</td>\n",
       "      <td>0</td>\n",
       "      <td>0</td>\n",
       "      <td>0</td>\n",
       "      <td>0</td>\n",
       "      <td>0</td>\n",
       "      <td>0</td>\n",
       "      <td>0</td>\n",
       "      <td>0</td>\n",
       "      <td>0</td>\n",
       "    </tr>\n",
       "    <tr>\n",
       "      <th>3</th>\n",
       "      <td>0</td>\n",
       "      <td>0</td>\n",
       "      <td>0</td>\n",
       "      <td>0</td>\n",
       "      <td>0</td>\n",
       "      <td>0</td>\n",
       "      <td>0</td>\n",
       "      <td>0</td>\n",
       "      <td>0</td>\n",
       "      <td>0</td>\n",
       "      <td>...</td>\n",
       "      <td>0</td>\n",
       "      <td>0</td>\n",
       "      <td>0</td>\n",
       "      <td>0</td>\n",
       "      <td>0</td>\n",
       "      <td>0</td>\n",
       "      <td>0</td>\n",
       "      <td>0</td>\n",
       "      <td>0</td>\n",
       "      <td>0</td>\n",
       "    </tr>\n",
       "    <tr>\n",
       "      <th>4</th>\n",
       "      <td>4</td>\n",
       "      <td>0</td>\n",
       "      <td>0</td>\n",
       "      <td>0</td>\n",
       "      <td>0</td>\n",
       "      <td>0</td>\n",
       "      <td>0</td>\n",
       "      <td>0</td>\n",
       "      <td>0</td>\n",
       "      <td>0</td>\n",
       "      <td>...</td>\n",
       "      <td>0</td>\n",
       "      <td>0</td>\n",
       "      <td>0</td>\n",
       "      <td>0</td>\n",
       "      <td>0</td>\n",
       "      <td>0</td>\n",
       "      <td>0</td>\n",
       "      <td>0</td>\n",
       "      <td>0</td>\n",
       "      <td>0</td>\n",
       "    </tr>\n",
       "  </tbody>\n",
       "</table>\n",
       "<p>5 rows × 785 columns</p>\n",
       "</div>"
      ],
      "text/plain": [
       "   label  1x1  1x2  1x3  1x4  1x5  1x6  1x7  1x8  1x9  ...  28x19  28x20  \\\n",
       "0      7    0    0    0    0    0    0    0    0    0  ...      0      0   \n",
       "1      2    0    0    0    0    0    0    0    0    0  ...      0      0   \n",
       "2      1    0    0    0    0    0    0    0    0    0  ...      0      0   \n",
       "3      0    0    0    0    0    0    0    0    0    0  ...      0      0   \n",
       "4      4    0    0    0    0    0    0    0    0    0  ...      0      0   \n",
       "\n",
       "   28x21  28x22  28x23  28x24  28x25  28x26  28x27  28x28  \n",
       "0      0      0      0      0      0      0      0      0  \n",
       "1      0      0      0      0      0      0      0      0  \n",
       "2      0      0      0      0      0      0      0      0  \n",
       "3      0      0      0      0      0      0      0      0  \n",
       "4      0      0      0      0      0      0      0      0  \n",
       "\n",
       "[5 rows x 785 columns]"
      ]
     },
     "execution_count": 4,
     "metadata": {},
     "output_type": "execute_result"
    }
   ],
   "source": [
    "test_df = pd.read_csv('D:/notebooks/MNIST Dataset/mnist_test.csv')\n",
    "test_df.head()"
   ]
  },
  {
   "cell_type": "code",
   "execution_count": 5,
   "metadata": {},
   "outputs": [],
   "source": [
    "X = train_df.iloc[:,1:]\n",
    "Y = train_df.label\n",
    "del train_df"
   ]
  },
  {
   "cell_type": "code",
   "execution_count": 6,
   "metadata": {},
   "outputs": [],
   "source": [
    "X_test = test_df.iloc[:,1:]\n",
    "Y_test = test_df.label\n",
    "del test_df"
   ]
  },
  {
   "cell_type": "code",
   "execution_count": 7,
   "metadata": {},
   "outputs": [
    {
     "data": {
      "text/plain": [
       "array([5, 0, 4, 1, 9, 2, 3, 6, 7, 8], dtype=int64)"
      ]
     },
     "execution_count": 7,
     "metadata": {},
     "output_type": "execute_result"
    }
   ],
   "source": [
    "Y.unique()\n"
   ]
  },
  {
   "cell_type": "code",
   "execution_count": 8,
   "metadata": {},
   "outputs": [],
   "source": [
    "#normalizing the data\n",
    "X = X/255"
   ]
  },
  {
   "cell_type": "code",
   "execution_count": 9,
   "metadata": {},
   "outputs": [],
   "source": [
    "X_test = X_test/255"
   ]
  },
  {
   "cell_type": "code",
   "execution_count": 10,
   "metadata": {},
   "outputs": [
    {
     "data": {
      "text/plain": [
       "(60000, 28, 28, 1)"
      ]
     },
     "execution_count": 10,
     "metadata": {},
     "output_type": "execute_result"
    }
   ],
   "source": [
    "X = np.array(X).reshape(-1,28,28,1)\n",
    "X.shape"
   ]
  },
  {
   "cell_type": "code",
   "execution_count": 11,
   "metadata": {},
   "outputs": [
    {
     "data": {
      "text/plain": [
       "(10000, 28, 28, 1)"
      ]
     },
     "execution_count": 11,
     "metadata": {},
     "output_type": "execute_result"
    }
   ],
   "source": [
    "X_test = np.array(X_test).reshape(-1,28,28,1)\n",
    "X_test.shape"
   ]
  },
  {
   "cell_type": "code",
   "execution_count": 12,
   "metadata": {},
   "outputs": [
    {
     "data": {
      "text/plain": [
       "10"
      ]
     },
     "execution_count": 12,
     "metadata": {},
     "output_type": "execute_result"
    }
   ],
   "source": [
    "num_classes = len(Y.unique())\n",
    "num_classes"
   ]
  },
  {
   "cell_type": "code",
   "execution_count": 13,
   "metadata": {},
   "outputs": [
    {
     "data": {
      "text/plain": [
       "<matplotlib.image.AxesImage at 0x1b66187f0d0>"
      ]
     },
     "execution_count": 13,
     "metadata": {},
     "output_type": "execute_result"
    },
    {
     "data": {
      "image/png": "[encoded data removed]",
      "text/plain": [
       "<Figure size 432x288 with 1 Axes>"
      ]
     },
     "metadata": {
      "needs_background": "light"
     },
     "output_type": "display_data"
    }
   ],
   "source": [
    "plt.imshow(X[4],cmap='gray')"
   ]
  },
  {
   "cell_type": "markdown",
   "metadata": {},
   "source": [
    "Model Building"
   ]
  },
  {
   "cell_type": "code",
   "execution_count": 290,
   "metadata": {},
   "outputs": [],
   "source": [
    "def data_aug(input):\n",
    "    aug = tf.keras.layers.RandomRotation(0.1)(input)\n",
    "    aug = tf.keras.layers.RandomZoom(0.1)(aug)\n",
    "    #aug = tf.keras.layers.RandomCrop(0.1)(aug)\n",
    "    return aug"
   ]
  },
  {
   "cell_type": "code",
   "execution_count": 299,
   "metadata": {},
   "outputs": [],
   "source": [
    "def druidot(input_shape):\n",
    "    input = tf.keras.layers.Input(shape=input_shape)\n",
    "    aug = data_aug(input)\n",
    "    x1 = tf.keras.layers.Conv2D(4,3,1,'same',activation='relu')(aug)\n",
    "    x2 = tf.keras.layers.Conv2D(8,3,1,'same',activation='relu')(x1)\n",
    "    x2 = tf.keras.layers.MaxPool2D(2,2,'valid')(x2)\n",
    "\n",
    "    x1 = tf.keras.layers.Conv2D(16,3,1,'same',activation='relu')(x2)\n",
    "    x2 = tf.keras.layers.Conv2D(32,3,1,'same',activation='relu')(x1)\n",
    "    x2 = tf.keras.layers.MaxPool2D(2,2,'valid')(x2)\n",
    "    x2 = tf.keras.layers.Add()([x2,tf.keras.layers.Conv2D(32,2,2,'valid')(x1)])\n",
    "    #x2 = tf.keras.layers.Dropout(0.2)(x2)\n",
    "\n",
    "    x1 = tf.keras.layers.Conv2D(64,3,1,'same',activation='relu')(x2)\n",
    "    x2 = tf.keras.layers.Conv2D(128,3,1,'same',activation='relu')(x1)\n",
    "    x2 = tf.keras.layers.MaxPool2D(2,2,'valid')(x2)\n",
    "\n",
    "    output = tf.keras.layers.Flatten()(x2)\n",
    "    #output = tf.keras.layers.Dense(64,activation='relu')(output)\n",
    "    output = tf.keras.layers.Dense(32,activation='relu')(output)\n",
    "    output = tf.keras.layers.Dense(num_classes,activation='softmax')(output)\n",
    "\n",
    "    model = tf.keras.models.Model(inputs = input, outputs = output, name = 'druidot_model')\n",
    "    \n",
    "    return model"
   ]
  },
  {
   "cell_type": "code",
   "execution_count": 300,
   "metadata": {},
   "outputs": [],
   "source": [
    "tf.keras.backend.clear_session()\n",
    "Input_Shape = (28,28,1)\n",
    "final_model = druidot(Input_Shape)"
   ]
  },
  {
   "cell_type": "code",
   "execution_count": 301,
   "metadata": {},
   "outputs": [
    {
     "data": {
      "image/png": "[encoded data removed]",
      "text/plain": [
       "<IPython.core.display.Image object>"
      ]
     },
     "execution_count": 301,
     "metadata": {},
     "output_type": "execute_result"
    }
   ],
   "source": [
    "tf.keras.utils.plot_model(final_model,show_shapes=True)"
   ]
  },
  {
   "cell_type": "code",
   "execution_count": 81,
   "metadata": {},
   "outputs": [],
   "source": [
    "callbacks = tf.keras.callbacks.EarlyStopping(monitor='loss', patience=3, restore_best_weights=True)"
   ]
  },
  {
   "cell_type": "code",
   "execution_count": 303,
   "metadata": {},
   "outputs": [],
   "source": [
    "final_model.compile(optimizer = tf.optimizers.Adam(), loss=tf.losses.SparseCategoricalCrossentropy(),metrics = ['accuracy'])"
   ]
  },
  {
   "cell_type": "code",
   "execution_count": 304,
   "metadata": {},
   "outputs": [
    {
     "name": "stdout",
     "output_type": "stream",
     "text": [
      "Epoch 1/50\n",
      "1875/1875 [==============================] - 18s 9ms/step - loss: 0.2781 - accuracy: 0.9076 - val_loss: 0.0798 - val_accuracy: 0.9751\n",
      "Epoch 2/50\n",
      "1875/1875 [==============================] - 18s 10ms/step - loss: 0.0863 - accuracy: 0.9731 - val_loss: 0.0476 - val_accuracy: 0.9854\n",
      "Epoch 3/50\n",
      "1875/1875 [==============================] - 18s 9ms/step - loss: 0.0680 - accuracy: 0.9783 - val_loss: 0.0444 - val_accuracy: 0.9867\n",
      "Epoch 4/50\n",
      "1875/1875 [==============================] - 18s 9ms/step - loss: 0.0565 - accuracy: 0.9827 - val_loss: 0.0350 - val_accuracy: 0.9899\n",
      "Epoch 5/50\n",
      "1875/1875 [==============================] - 18s 9ms/step - loss: 0.0502 - accuracy: 0.9852 - val_loss: 0.0452 - val_accuracy: 0.9864\n",
      "Epoch 6/50\n",
      "1875/1875 [==============================] - 18s 10ms/step - loss: 0.0455 - accuracy: 0.9858 - val_loss: 0.0385 - val_accuracy: 0.9888\n",
      "Epoch 7/50\n",
      "1875/1875 [==============================] - 17s 9ms/step - loss: 0.0432 - accuracy: 0.9863 - val_loss: 0.0284 - val_accuracy: 0.9914\n",
      "Epoch 8/50\n",
      "1875/1875 [==============================] - 18s 10ms/step - loss: 0.0395 - accuracy: 0.9879 - val_loss: 0.0380 - val_accuracy: 0.9877\n",
      "Epoch 9/50\n",
      "1875/1875 [==============================] - 17s 9ms/step - loss: 0.0369 - accuracy: 0.9882 - val_loss: 0.0394 - val_accuracy: 0.9883\n",
      "Epoch 10/50\n",
      "1875/1875 [==============================] - 18s 10ms/step - loss: 0.0344 - accuracy: 0.9895 - val_loss: 0.0341 - val_accuracy: 0.9894\n",
      "Epoch 11/50\n",
      "1875/1875 [==============================] - 18s 10ms/step - loss: 0.0353 - accuracy: 0.9890 - val_loss: 0.0315 - val_accuracy: 0.9910\n",
      "Epoch 12/50\n",
      "1875/1875 [==============================] - 18s 9ms/step - loss: 0.0322 - accuracy: 0.9902 - val_loss: 0.0334 - val_accuracy: 0.9904\n",
      "Epoch 13/50\n",
      "1875/1875 [==============================] - 19s 10ms/step - loss: 0.0316 - accuracy: 0.9901 - val_loss: 0.0354 - val_accuracy: 0.9889\n",
      "Epoch 14/50\n",
      "1875/1875 [==============================] - 19s 10ms/step - loss: 0.0314 - accuracy: 0.9906 - val_loss: 0.0334 - val_accuracy: 0.9899\n",
      "Epoch 15/50\n",
      "1875/1875 [==============================] - 19s 10ms/step - loss: 0.0284 - accuracy: 0.9913 - val_loss: 0.0271 - val_accuracy: 0.9912\n",
      "Epoch 16/50\n",
      "1875/1875 [==============================] - 19s 10ms/step - loss: 0.0298 - accuracy: 0.9909 - val_loss: 0.0253 - val_accuracy: 0.9928\n",
      "Epoch 17/50\n",
      "1875/1875 [==============================] - 19s 10ms/step - loss: 0.0282 - accuracy: 0.9912 - val_loss: 0.0327 - val_accuracy: 0.9906\n",
      "Epoch 18/50\n",
      "1875/1875 [==============================] - 19s 10ms/step - loss: 0.0269 - accuracy: 0.9919 - val_loss: 0.0271 - val_accuracy: 0.9924\n",
      "Epoch 19/50\n",
      "1875/1875 [==============================] - 19s 10ms/step - loss: 0.0251 - accuracy: 0.9922 - val_loss: 0.0339 - val_accuracy: 0.9922\n",
      "Epoch 20/50\n",
      "1875/1875 [==============================] - 19s 10ms/step - loss: 0.0268 - accuracy: 0.9916 - val_loss: 0.0361 - val_accuracy: 0.9901\n",
      "Epoch 21/50\n",
      "1875/1875 [==============================] - 19s 10ms/step - loss: 0.0265 - accuracy: 0.9916 - val_loss: 0.0315 - val_accuracy: 0.9913\n",
      "Epoch 22/50\n",
      "1875/1875 [==============================] - 19s 10ms/step - loss: 0.0250 - accuracy: 0.9925 - val_loss: 0.0379 - val_accuracy: 0.9896\n",
      "Epoch 23/50\n",
      "1875/1875 [==============================] - 19s 10ms/step - loss: 0.0251 - accuracy: 0.9921 - val_loss: 0.0353 - val_accuracy: 0.9913\n",
      "Epoch 24/50\n",
      "1875/1875 [==============================] - 19s 10ms/step - loss: 0.0248 - accuracy: 0.9925 - val_loss: 0.0336 - val_accuracy: 0.9907\n",
      "Epoch 25/50\n",
      "1875/1875 [==============================] - 19s 10ms/step - loss: 0.0253 - accuracy: 0.9923 - val_loss: 0.0333 - val_accuracy: 0.9909\n",
      "Epoch 26/50\n",
      "1875/1875 [==============================] - 19s 10ms/step - loss: 0.0248 - accuracy: 0.9921 - val_loss: 0.0274 - val_accuracy: 0.9927\n",
      "Epoch 27/50\n",
      "1875/1875 [==============================] - 20s 10ms/step - loss: 0.0234 - accuracy: 0.9930 - val_loss: 0.0254 - val_accuracy: 0.9932\n",
      "Epoch 28/50\n",
      "1875/1875 [==============================] - 19s 10ms/step - loss: 0.0247 - accuracy: 0.9922 - val_loss: 0.0268 - val_accuracy: 0.9919\n",
      "Epoch 29/50\n",
      "1875/1875 [==============================] - 19s 10ms/step - loss: 0.0242 - accuracy: 0.9923 - val_loss: 0.0342 - val_accuracy: 0.9906\n",
      "Epoch 30/50\n",
      "1875/1875 [==============================] - 19s 10ms/step - loss: 0.0231 - accuracy: 0.9927 - val_loss: 0.0328 - val_accuracy: 0.9908\n",
      "Epoch 31/50\n",
      "1875/1875 [==============================] - 19s 10ms/step - loss: 0.0228 - accuracy: 0.9930 - val_loss: 0.0398 - val_accuracy: 0.9886\n",
      "Epoch 32/50\n",
      "1875/1875 [==============================] - 20s 10ms/step - loss: 0.0227 - accuracy: 0.9931 - val_loss: 0.0462 - val_accuracy: 0.9867\n",
      "Epoch 33/50\n",
      "1875/1875 [==============================] - 20s 11ms/step - loss: 0.0210 - accuracy: 0.9933 - val_loss: 0.0350 - val_accuracy: 0.9921\n",
      "Epoch 34/50\n",
      "1875/1875 [==============================] - 19s 10ms/step - loss: 0.0220 - accuracy: 0.9930 - val_loss: 0.0380 - val_accuracy: 0.9908\n",
      "Epoch 35/50\n",
      "1875/1875 [==============================] - 20s 11ms/step - loss: 0.0234 - accuracy: 0.9927 - val_loss: 0.0352 - val_accuracy: 0.9904\n",
      "Epoch 36/50\n",
      "1875/1875 [==============================] - 19s 10ms/step - loss: 0.0205 - accuracy: 0.9936 - val_loss: 0.0336 - val_accuracy: 0.9909\n",
      "Epoch 37/50\n",
      "1875/1875 [==============================] - 20s 11ms/step - loss: 0.0206 - accuracy: 0.9938 - val_loss: 0.0327 - val_accuracy: 0.9922\n",
      "Epoch 38/50\n",
      "1875/1875 [==============================] - 20s 11ms/step - loss: 0.0219 - accuracy: 0.9936 - val_loss: 0.0417 - val_accuracy: 0.9901\n",
      "Epoch 39/50\n",
      "1875/1875 [==============================] - 19s 10ms/step - loss: 0.0214 - accuracy: 0.9933 - val_loss: 0.0360 - val_accuracy: 0.9905\n"
     ]
    }
   ],
   "source": [
    "history = final_model.fit(x=X,y=Y, batch_size=32,epochs=50,validation_data=(X_test,Y_test),callbacks=[callbacks])"
   ]
  },
  {
   "cell_type": "markdown",
   "metadata": {},
   "source": [
    "tf.keras.models.save_model(final_model,'D:/notebooks/MNIST Dataset/wrong7.hdf5')"
   ]
  },
  {
   "cell_type": "code",
   "execution_count": 285,
   "metadata": {},
   "outputs": [
    {
     "data": {
      "image/png": "[encoded data removed]",
      "text/plain": [
       "<Figure size 432x288 with 1 Axes>"
      ]
     },
     "metadata": {
      "needs_background": "light"
     },
     "output_type": "display_data"
    }
   ],
   "source": [
    "loss = history.history['loss']\n",
    "val_loss = history.history['val_loss']\n",
    "epochs = range(1, len(loss) + 1)\n",
    "plt.plot(epochs, loss, 'y', label='Training loss')\n",
    "plt.plot(epochs, val_loss, 'r', label='Validation loss')\n",
    "plt.title('Training and validation loss')\n",
    "plt.xlabel('Epochs')\n",
    "plt.ylabel('Loss')\n",
    "plt.legend()\n",
    "plt.grid(False)\n",
    "plt.axis(True)\n",
    "plt.show()"
   ]
  },
  {
   "cell_type": "code",
   "execution_count": 286,
   "metadata": {},
   "outputs": [
    {
     "data": {
      "image/png": "[encoded data removed]",
      "text/plain": [
       "<Figure size 432x288 with 1 Axes>"
      ]
     },
     "metadata": {
      "needs_background": "light"
     },
     "output_type": "display_data"
    }
   ],
   "source": [
    "acc = history.history['accuracy']\n",
    "val_acc = history.history['val_accuracy']\n",
    "plt.plot(epochs, acc, 'y', label='Training acc')\n",
    "plt.plot(epochs, val_acc, 'r', label='Validation acc')\n",
    "plt.title('Training and validation accuracy')\n",
    "plt.xlabel('Epochs')\n",
    "plt.ylabel('Accuracy')\n",
    "plt.legend()\n",
    "plt.grid(False)\n",
    "plt.show()"
   ]
  },
  {
   "cell_type": "code",
   "execution_count": 180,
   "metadata": {},
   "outputs": [],
   "source": [
    "final_model = tf.keras.models.load_model(\"D:/notebooks/MNIST Dataset/wrong7.hdf5\")"
   ]
  },
  {
   "cell_type": "code",
   "execution_count": 181,
   "metadata": {},
   "outputs": [
    {
     "data": {
      "text/plain": [
       "<tf.Tensor: shape=(), dtype=int64, numpy=9>"
      ]
     },
     "execution_count": 181,
     "metadata": {},
     "output_type": "execute_result"
    }
   ],
   "source": [
    "tf.argmax(final_model.predict(X[4].reshape(-1,28,28,1))[0])"
   ]
  },
  {
   "cell_type": "code",
   "execution_count": 182,
   "metadata": {},
   "outputs": [],
   "source": [
    "from itertools import groupby\n",
    "\n",
    "def predict(image):\n",
    "    image = Image.open(image).convert('L')\n",
    "    width = image.size[0]\n",
    "    height = image.size[1]\n",
    "    ratio = width/height\n",
    "\n",
    "    width = (int)(ratio*28)\n",
    "    image = image.resize((width,28))\n",
    "    image = np.array(image)\n",
    "    image = 255-image\n",
    "    image = image/255\n",
    "    display(Image.fromarray((image*255).astype(np.uint8)))\n",
    "    m = image.any(0)\n",
    "\n",
    "    digits = [image[:,[*g]] for k,g in groupby(np.arange(len(m)), lambda x:m[x]!=0) if k]\n",
    "    #for digit in digits:\n",
    "        #display(Image.fromarray((digit*255).astype(np.uint8)))\n",
    "    number = \"\"\n",
    "    for i in range(len(digits)):\n",
    "        digit = digits[i]\n",
    "        w = digit.shape[1]\n",
    "        filler = 28-w\n",
    "        if(filler%2==0):\n",
    "            out = np.concatenate((np.zeros((28,filler//2)),digit,np.zeros((28,filler//2))),axis=1)\n",
    "        else:\n",
    "            out = np.concatenate((np.zeros((28,filler//2+1)),digit,np.zeros((28,filler//2))),axis=1)\n",
    "\n",
    "        number+=str((tf.argmax(final_model.predict(out.reshape(-1,28,28,1))[0])).numpy())\n",
    "    print(number)"
   ]
  },
  {
   "cell_type": "code",
   "execution_count": 183,
   "metadata": {},
   "outputs": [
    {
     "data": {
      "image/png": "[encoded data removed]",
      "text/plain": [
       "<PIL.Image.Image image mode=L size=87x28 at 0x1B7E8337EE0>"
      ]
     },
     "metadata": {},
     "output_type": "display_data"
    },
    {
     "name": "stdout",
     "output_type": "stream",
     "text": [
      "421941\n"
     ]
    }
   ],
   "source": [
    "test_image = 'D:/notebooks/test.jpeg'\n",
    "predict(test_image)"
   ]
  },
  {
   "cell_type": "markdown",
   "metadata": {},
   "source": [
    "Since 7 is the only digit which our model cannot recognize, we will train the model for 10 more instances of the digit \"7\"\n"
   ]
  },
  {
   "cell_type": "code",
   "execution_count": 205,
   "metadata": {},
   "outputs": [],
   "source": [
    "final_model = tf.keras.models.load_model(\"D:/notebooks/MNIST Dataset/wrong7.hdf5\")"
   ]
  },
  {
   "cell_type": "code",
   "execution_count": 206,
   "metadata": {},
   "outputs": [],
   "source": [
    "import random\n",
    "\n",
    "seed = 5\n",
    "\n",
    "Y0 = list(Y[Y==0].index)\n",
    "random.Random(seed).shuffle(Y0)\n",
    "X0 = X[Y0[:500]]\n",
    "Y1 = list(Y[Y==1].index)\n",
    "random.Random(seed).shuffle(Y1)\n",
    "X1 = X[Y1[:500]]\n",
    "Y2 = list(Y[Y==2].index)\n",
    "random.Random(seed).shuffle(Y2)\n",
    "X2 = X[Y2[:500]]\n",
    "Y3 = list(Y[Y==3].index)\n",
    "random.Random(seed).shuffle(Y3)\n",
    "X3 = X[Y3[:500]]\n",
    "Y4 = list(Y[Y==4].index)\n",
    "random.Random(seed).shuffle(Y4)\n",
    "X4 = X[Y4[:500]]\n",
    "Y5 = list(Y[Y==5].index)\n",
    "random.Random(seed).shuffle(Y5)\n",
    "X5 = X[Y5[:500]]\n",
    "Y6 = list(Y[Y==6].index)\n",
    "random.Random(seed).shuffle(Y6)\n",
    "X6 = X[Y6[:500]]\n",
    "Y7 = list(Y[Y==7].index)\n",
    "random.Random(seed).shuffle(Y7)\n",
    "X7 = X[Y7[:500]]\n",
    "Y8 = list(Y[Y==8].index)\n",
    "random.Random(seed).shuffle(Y8)\n",
    "X8 = X[Y8[:500]]\n",
    "Y9 = list(Y[Y==9].index)\n",
    "random.Random(seed).shuffle(Y9)\n",
    "X9 = X[Y9[:500]]\n",
    "\n",
    "X_new = np.concatenate((X0,X1,X2,X3,X4,X5,X6,X7,X8,X9),axis=0)\n",
    "Y_new = np.concatenate(([0 for _ in range(500)],[1 for _ in range(500)],[2 for _ in range(500)],[3 for _ in range(500)],[4 for _ in range(500)],[5 for _ in range(500)],[6 for _ in range(500)],[7 for _ in range(500)],[8 for _ in range(500)],[9 for _ in range(500)]),axis=0)\n",
    "\n",
    "#random.Random(seed).shuffle(X_new)\n",
    "#random.Random(seed).shuffle(Y_new)\n"
   ]
  },
  {
   "cell_type": "code",
   "execution_count": 207,
   "metadata": {},
   "outputs": [
    {
     "name": "stdout",
     "output_type": "stream",
     "text": [
      "Epoch 1/50\n",
      "157/157 [==============================] - 2s 11ms/step - loss: 0.0198 - accuracy: 0.9928\n",
      "Epoch 2/50\n",
      "157/157 [==============================] - 2s 11ms/step - loss: 0.0224 - accuracy: 0.9916\n",
      "Epoch 3/50\n",
      "157/157 [==============================] - 1s 9ms/step - loss: 0.0120 - accuracy: 0.9958\n",
      "Epoch 4/50\n",
      "157/157 [==============================] - 2s 10ms/step - loss: 0.0108 - accuracy: 0.9968\n",
      "Epoch 5/50\n",
      "157/157 [==============================] - 2s 10ms/step - loss: 0.0164 - accuracy: 0.9958\n",
      "Epoch 6/50\n",
      "157/157 [==============================] - 2s 10ms/step - loss: 0.0184 - accuracy: 0.9952\n",
      "Epoch 7/50\n",
      "157/157 [==============================] - 2s 10ms/step - loss: 0.0143 - accuracy: 0.9948\n"
     ]
    }
   ],
   "source": [
    "history = final_model.fit(x=X_new,y=Y_new, batch_size=32,epochs=50,callbacks=[callbacks])"
   ]
  },
  {
   "cell_type": "code",
   "execution_count": 208,
   "metadata": {},
   "outputs": [
    {
     "data": {
      "image/png": "[encoded data removed]",
      "text/plain": [
       "<PIL.Image.Image image mode=L size=87x28 at 0x1B80468EB20>"
      ]
     },
     "metadata": {},
     "output_type": "display_data"
    },
    {
     "name": "stdout",
     "output_type": "stream",
     "text": [
      "721941\n"
     ]
    }
   ],
   "source": [
    "test_image = 'D:/notebooks/test.jpeg'\n",
    "predict(test_image)"
   ]
  },
  {
   "cell_type": "markdown",
   "metadata": {},
   "source": [
    "tf.keras.models.save_model(final_model,\"D:/notebooks/MNIST Dataset/correctModel.hdf5\")"
   ]
  },
  {
   "cell_type": "code",
   "execution_count": 212,
   "metadata": {},
   "outputs": [
    {
     "data": {
      "image/png": "[encoded data removed]",
      "text/plain": [
       "<PIL.Image.Image image mode=L size=87x28 at 0x1B8063D03A0>"
      ]
     },
     "metadata": {},
     "output_type": "display_data"
    },
    {
     "name": "stdout",
     "output_type": "stream",
     "text": [
      "721941\n"
     ]
    }
   ],
   "source": [
    "final_model = tf.keras.models.load_model(\"D:/notebooks/MNIST Dataset/correctModel.hdf5\")\n",
    "test_image = 'D:/notebooks/test.jpeg'\n",
    "predict(test_image)"
   ]
  },
  {
   "cell_type": "code",
   "execution_count": null,
   "metadata": {},
   "outputs": [],
   "source": []
  }
 ],
 "metadata": {
  "kernelspec": {
   "display_name": "Python 3.8.1 ('gpu')",
   "language": "python",
   "name": "python3"
  },
  "language_info": {
   "codemirror_mode": {
    "name": "ipython",
    "version": 3
   },
   "file_extension": ".py",
   "mimetype": "text/x-python",
   "name": "python",
   "nbconvert_exporter": "python",
   "pygments_lexer": "ipython3",
   "version": "3.8.1"
  },
  "orig_nbformat": 4,
  "vscode": {
   "interpreter": {
    "hash": "28ac4919c9c431ad0d68ad39cf89d7e8daec647f399efe4b181f790e50c1cbda"
   }
  }
 },
 "nbformat": 4,
 "nbformat_minor": 2
}
